{
 "cells": [
  {
   "cell_type": "markdown",
   "metadata": {
    "colab_type": "text",
    "id": "O5pKTpHfeJ0t"
   },
   "source": [
    "# CFO Correction Network\n",
    "\n",
    "This notebooks contains two network architectures to **learn to correct Carrier Frequency Offset (CFO)**, given preamble and preamble convolved data.\n",
    "\n",
    "* **First Approach**: Feedforward network\n",
    "    * Pros: Faster inference\n",
    "    * Cons: Fixed Preabmle Length\n",
    "* **Second Approach**: Recurrent Neural Network network\n",
    "    * Pros: variable preamble length\n",
    "    * Cons: Slower\n",
    "    \n",
    "## Environment Setup\n",
    "* Tensorflow\n",
    "* Keras\n",
    "* Commpy\n",
    "* Pydot\n",
    "*  `graphviz` for visualization. `sudo apt-get install graphviz`"
   ]
  },
  {
   "cell_type": "code",
   "execution_count": 1,
   "metadata": {},
   "outputs": [],
   "source": [
    "# Import packages from other direction. Itis necessary if the project is structured as:\n",
    "# my_project\n",
    "# ├── notebooks\n",
    "# │   └── current_notebook.ipynb\n",
    "# ├── local_python_package\n",
    "# │   ├── __init__.py\n",
    "# │   ├── models.py\n",
    "# ├── README.md\n",
    "import os\n",
    "import sys\n",
    "module_path = os.path.abspath(os.path.join('..'))\n",
    "if module_path not in sys.path:\n",
    "    sys.path.append(module_path)"
   ]
  },
  {
   "cell_type": "code",
   "execution_count": 2,
   "metadata": {
    "colab": {
     "autoexec": {
      "startup": false,
      "wait_interval": 0
     },
     "base_uri": "https://localhost:8080/",
     "height": 34
    },
    "colab_type": "code",
    "executionInfo": {
     "elapsed": 1245,
     "status": "ok",
     "timestamp": 1532646976703,
     "user": {
      "displayName": "Dat Nguyen",
      "photoUrl": "//lh3.googleusercontent.com/-irIcNYd-KIw/AAAAAAAAAAI/AAAAAAAAAEs/NlM8kG6RL4Q/s50-c-k-no/photo.jpg",
      "userId": "108917076199533451784"
     },
     "user_tz": 420
    },
    "id": "Ca66rN5HeJ01",
    "outputId": "9d2d668a-4420-4c59-cfe6-fec222a4c932"
   },
   "outputs": [
    {
     "name": "stderr",
     "output_type": "stream",
     "text": [
      "Using TensorFlow backend.\n"
     ]
    }
   ],
   "source": [
    "import multiprocessing as mp\n",
    "import numpy as np\n",
    "import tensorflow as tf\n",
    "from radioml.dataset import RadioDataGenerator\n",
    "from sklearn.metrics import mean_squared_error\n",
    "\n",
    "# For visualization\n",
    "from IPython.display import SVG, display\n",
    "from keras.utils.vis_utils import model_to_dot\n",
    "import matplotlib.pyplot as plt\n",
    "import seaborn as sns\n",
    "import pylab"
   ]
  },
  {
   "cell_type": "markdown",
   "metadata": {},
   "source": [
    "## Define Parameters for this experiment"
   ]
  },
  {
   "cell_type": "code",
   "execution_count": 3,
   "metadata": {},
   "outputs": [],
   "source": [
    "DATA_LEN = 200\n",
    "PREAMBLE_LEN = 40\n",
    "CHANNEL_LEN = 1\n",
    "\n",
    "SNR_TRAIN = 20.0\n",
    "OMEGA_TRAIN = 1/50"
   ]
  },
  {
   "cell_type": "markdown",
   "metadata": {},
   "source": [
    "## Define training_set, validation_set"
   ]
  },
  {
   "cell_type": "code",
   "execution_count": 4,
   "metadata": {},
   "outputs": [],
   "source": [
    "# Define Radio\n",
    "radio = RadioDataGenerator(DATA_LEN,PREAMBLE_LEN, CHANNEL_LEN, modulation_scheme='QPSK')\n",
    "\n",
    "training_generator   = radio.cfo_data_generator(OMEGA_TRAIN, SNR_TRAIN, \n",
    "                                                batch_size=128, num_cpus=8)\n",
    "\n",
    "validation_generator = radio.cfo_data_generator(OMEGA_TRAIN, SNR_TRAIN, \n",
    "                                                batch_size=128, seed=2018)"
   ]
  },
  {
   "cell_type": "code",
   "execution_count": 5,
   "metadata": {},
   "outputs": [
    {
     "data": {
      "image/png": "[encoded data removed]",
      "text/plain": [
       "<Figure size 720x288 with 2 Axes>"
      ]
     },
     "metadata": {},
     "output_type": "display_data"
    }
   ],
   "source": [
    "# Visualize a few examples\n",
    "examples = next(radio.cfo_data_generator(OMEGA_TRAIN, SNR_TRAIN, batch_size=4, num_cpus=8))\n",
    "[preambles, preambles_conv], cfo_corrected = examples\n",
    "symbols, groundtruths = np.unique(preambles.view(np.complex),return_inverse=True)\n",
    "\n",
    "_, (ax1, ax2) = plt.subplots(1, 2, figsize=(10, 4))\n",
    "\n",
    "ax1.scatter(preambles_conv[...,0].flatten(),preambles_conv[...,1].flatten(), c=groundtruths)\n",
    "ax1.scatter(np.real(symbols), np.imag(symbols), marker='x', s=100, color='black')\n",
    "ax1.axhline()\n",
    "_ = ax1.axvline()\n",
    "ax1.set_title(\"Preamble_Conv before CFO Correction \")\n",
    "\n",
    "ax2.scatter(cfo_corrected[...,0].flatten(),cfo_corrected[...,1].flatten(), c=groundtruths)\n",
    "ax2.scatter(np.real(symbols), np.imag(symbols), marker='x', s=100, color='black')\n",
    "ax2.axhline()\n",
    "_ = ax2.axvline()\n",
    "_ = ax2.set_title(\"Preamble_Conv after CFO Correction\")"
   ]
  },
  {
   "cell_type": "markdown",
   "metadata": {
    "colab_type": "text",
    "id": "hLEGx68_eJ1j"
   },
   "source": [
    "## First Approach: Feedforward Network"
   ]
  },
  {
   "cell_type": "code",
   "execution_count": 6,
   "metadata": {
    "colab": {
     "autoexec": {
      "startup": false,
      "wait_interval": 0
     },
     "base_uri": "https://localhost:8080/",
     "height": 648
    },
    "colab_type": "code",
    "executionInfo": {
     "elapsed": 482,
     "status": "ok",
     "timestamp": 1532646978288,
     "user": {
      "displayName": "Dat Nguyen",
      "photoUrl": "//lh3.googleusercontent.com/-irIcNYd-KIw/AAAAAAAAAAI/AAAAAAAAAEs/NlM8kG6RL4Q/s50-c-k-no/photo.jpg",
      "userId": "108917076199533451784"
     },
     "user_tz": 420
    },
    "id": "mtYdGSnieJ1n",
    "outputId": "906a9d75-754e-4519-bec3-0b879ed8a77a"
   },
   "outputs": [],
   "source": [
    "tf.keras.backend.clear_session()\n",
    "\n",
    "def cfo_network(preamble, preamble_conv, scope='CFONet'):\n",
    "    \"\"\"Build CFO Correct Network (or Graph).\"\"\"\n",
    "    with tf.name_scope(scope):\n",
    "        inputs = tf.keras.layers.concatenate([preamble, preamble_conv], axis=1)\n",
    "        inputs = tf.keras.layers.Flatten(name='Flatten')(inputs)\n",
    "        x = tf.keras.layers.Dense(100, 'tanh', name=scope+\"_dense_1\")(inputs)\n",
    "        x = tf.keras.layers.Dense(100, 'tanh', name=scope+\"_dense_2\")(x)\n",
    "        x = tf.keras.layers.Dense(100, 'tanh', name=scope+\"_dense_3\")(x)\n",
    "    cfo_est = tf.keras.layers.Dense(1, 'linear',name='CFOEstimate')(x)\n",
    "    return cfo_est\n",
    "\n",
    "\n",
    "def cfo_correction_func(kwargs):\n",
    "    \"\"\"Rotate packets given an omega estimate \n",
    "    \n",
    "    Arguments:\n",
    "        omega_estimate: tf.Tensor float32 - [batch, 1]\n",
    "        packets:        tf.Tensor float32 - [batch, (preamble_len + data_len), 2] \n",
    "        \n",
    "    Return:\n",
    "        rotated_packets: tf.Tensor float32 - [batch, (preamble_len + data_len), 2] \n",
    "    \"\"\" \n",
    "    # Because of Lambda Layer, we need to pass arguments as Kwargs\n",
    "    omega_estimate, packets = kwargs[0], kwargs[1]\n",
    "    # Build rotation matrix\n",
    "    with tf.name_scope('rotation_matrix'):\n",
    "        packet_len      = tf.cast(tf.shape(packets)[1], tf.float32) # preamble_len + data_len\n",
    "        rotation_matrix = tf.exp(tf.complex(0.0,-1.0* mega_estimate* tf.range(packet_len)))\n",
    "    # CFO Correction\n",
    "    with tf.name_scope('cfo_correction'):\n",
    "        rotated_packets = tf.complex(packets[..., 0], packets[...,1]) * rotation_matrix\n",
    "    # Encode complex packets into 2D array\n",
    "    corrected_preambe = tf.stack([tf.real(rotated_packets),\n",
    "                                  tf.imag(rotated_packets)], \n",
    "                                  axis=-1)\n",
    "    \n",
    "    return corrected_preambe"
   ]
  },
  {
   "cell_type": "markdown",
   "metadata": {},
   "source": [
    "## Build CFO Correction Net"
   ]
  },
  {
   "cell_type": "code",
   "execution_count": 7,
   "metadata": {
    "scrolled": false
   },
   "outputs": [
    {
     "name": "stdout",
     "output_type": "stream",
     "text": [
      "Number of training parameters: 36401\n"
     ]
    },
    {
     "data": {
      "image/svg+xml": [
       "<svg height=\"636pt\" viewBox=\"0.00 0.00 647.50 636.00\" width=\"648pt\" xmlns=\"http://www.w3.org/2000/svg\" xmlns:xlink=\"http://www.w3.org/1999/xlink\">\n",
       "<g class=\"graph\" id=\"graph0\" transform=\"scale(1 1) rotate(0) translate(4 632)\">\n",
       "<title>G</title>\n",
       "<polygon fill=\"white\" points=\"-4,4 -4,-632 643.5,-632 643.5,4 -4,4\" stroke=\"none\"/>\n",
       "<!-- 139814779376696 -->\n",
       "<g class=\"node\" id=\"node1\"><title>139814779376696</title>\n",
       "<polygon fill=\"none\" points=\"0,-581.5 0,-627.5 281,-627.5 281,-581.5 0,-581.5\" stroke=\"black\"/>\n",
       "<text font-family=\"Times,serif\" font-size=\"14.00\" text-anchor=\"middle\" x=\"68\" y=\"-600.8\">Preamble: InputLayer</text>\n",
       "<polyline fill=\"none\" points=\"136,-581.5 136,-627.5 \" stroke=\"black\"/>\n",
       "<text font-family=\"Times,serif\" font-size=\"14.00\" text-anchor=\"middle\" x=\"163.5\" y=\"-612.3\">input:</text>\n",
       "<polyline fill=\"none\" points=\"136,-604.5 191,-604.5 \" stroke=\"black\"/>\n",
       "<text font-family=\"Times,serif\" font-size=\"14.00\" text-anchor=\"middle\" x=\"163.5\" y=\"-589.3\">output:</text>\n",
       "<polyline fill=\"none\" points=\"191,-581.5 191,-627.5 \" stroke=\"black\"/>\n",
       "<text font-family=\"Times,serif\" font-size=\"14.00\" text-anchor=\"middle\" x=\"236\" y=\"-612.3\">(None, 40, 2)</text>\n",
       "<polyline fill=\"none\" points=\"191,-604.5 281,-604.5 \" stroke=\"black\"/>\n",
       "<text font-family=\"Times,serif\" font-size=\"14.00\" text-anchor=\"middle\" x=\"236\" y=\"-589.3\">(None, 40, 2)</text>\n",
       "</g>\n",
       "<!-- 139816946814704 -->\n",
       "<g class=\"node\" id=\"node3\"><title>139816946814704</title>\n",
       "<polygon fill=\"none\" points=\"51.5,-498.5 51.5,-544.5 441.5,-544.5 441.5,-498.5 51.5,-498.5\" stroke=\"black\"/>\n",
       "<text font-family=\"Times,serif\" font-size=\"14.00\" text-anchor=\"middle\" x=\"129\" y=\"-517.8\">concatenate: Concatenate</text>\n",
       "<polyline fill=\"none\" points=\"206.5,-498.5 206.5,-544.5 \" stroke=\"black\"/>\n",
       "<text font-family=\"Times,serif\" font-size=\"14.00\" text-anchor=\"middle\" x=\"234\" y=\"-529.3\">input:</text>\n",
       "<polyline fill=\"none\" points=\"206.5,-521.5 261.5,-521.5 \" stroke=\"black\"/>\n",
       "<text font-family=\"Times,serif\" font-size=\"14.00\" text-anchor=\"middle\" x=\"234\" y=\"-506.3\">output:</text>\n",
       "<polyline fill=\"none\" points=\"261.5,-498.5 261.5,-544.5 \" stroke=\"black\"/>\n",
       "<text font-family=\"Times,serif\" font-size=\"14.00\" text-anchor=\"middle\" x=\"351.5\" y=\"-529.3\">[(None, 40, 2), (None, 40, 2)]</text>\n",
       "<polyline fill=\"none\" points=\"261.5,-521.5 441.5,-521.5 \" stroke=\"black\"/>\n",
       "<text font-family=\"Times,serif\" font-size=\"14.00\" text-anchor=\"middle\" x=\"351.5\" y=\"-506.3\">(None, 80, 2)</text>\n",
       "</g>\n",
       "<!-- 139814779376696&#45;&gt;139816946814704 -->\n",
       "<g class=\"edge\" id=\"edge1\"><title>139814779376696-&gt;139816946814704</title>\n",
       "<path d=\"M169.465,-581.366C181.851,-571.902 196.459,-560.739 209.606,-550.693\" fill=\"none\" stroke=\"black\"/>\n",
       "<polygon fill=\"black\" points=\"211.749,-553.46 217.57,-544.607 207.499,-547.898 211.749,-553.46\" stroke=\"black\"/>\n",
       "</g>\n",
       "<!-- 139816946991792 -->\n",
       "<g class=\"node\" id=\"node2\"><title>139816946991792</title>\n",
       "<polygon fill=\"none\" points=\"299.5,-581.5 299.5,-627.5 639.5,-627.5 639.5,-581.5 299.5,-581.5\" stroke=\"black\"/>\n",
       "<text font-family=\"Times,serif\" font-size=\"14.00\" text-anchor=\"middle\" x=\"397\" y=\"-600.8\">PreambleConvolved: InputLayer</text>\n",
       "<polyline fill=\"none\" points=\"494.5,-581.5 494.5,-627.5 \" stroke=\"black\"/>\n",
       "<text font-family=\"Times,serif\" font-size=\"14.00\" text-anchor=\"middle\" x=\"522\" y=\"-612.3\">input:</text>\n",
       "<polyline fill=\"none\" points=\"494.5,-604.5 549.5,-604.5 \" stroke=\"black\"/>\n",
       "<text font-family=\"Times,serif\" font-size=\"14.00\" text-anchor=\"middle\" x=\"522\" y=\"-589.3\">output:</text>\n",
       "<polyline fill=\"none\" points=\"549.5,-581.5 549.5,-627.5 \" stroke=\"black\"/>\n",
       "<text font-family=\"Times,serif\" font-size=\"14.00\" text-anchor=\"middle\" x=\"594.5\" y=\"-612.3\">(None, 40, 2)</text>\n",
       "<polyline fill=\"none\" points=\"549.5,-604.5 639.5,-604.5 \" stroke=\"black\"/>\n",
       "<text font-family=\"Times,serif\" font-size=\"14.00\" text-anchor=\"middle\" x=\"594.5\" y=\"-589.3\">(None, 40, 2)</text>\n",
       "</g>\n",
       "<!-- 139816946991792&#45;&gt;139816946814704 -->\n",
       "<g class=\"edge\" id=\"edge2\"><title>139816946991792-&gt;139816946814704</title>\n",
       "<path d=\"M408.859,-581.473C380.346,-571.117 346.186,-558.709 316.572,-547.952\" fill=\"none\" stroke=\"black\"/>\n",
       "<polygon fill=\"black\" points=\"317.723,-544.647 307.129,-544.522 315.333,-551.226 317.723,-544.647\" stroke=\"black\"/>\n",
       "</g>\n",
       "<!-- 139816946950440 -->\n",
       "<g class=\"node\" id=\"node9\"><title>139816946950440</title>\n",
       "<polygon fill=\"none\" points=\"200,-0.5 200,-46.5 567,-46.5 567,-0.5 200,-0.5\" stroke=\"black\"/>\n",
       "<text font-family=\"Times,serif\" font-size=\"14.00\" text-anchor=\"middle\" x=\"276.5\" y=\"-19.8\">CFOCorrection: Lambda</text>\n",
       "<polyline fill=\"none\" points=\"353,-0.5 353,-46.5 \" stroke=\"black\"/>\n",
       "<text font-family=\"Times,serif\" font-size=\"14.00\" text-anchor=\"middle\" x=\"380.5\" y=\"-31.3\">input:</text>\n",
       "<polyline fill=\"none\" points=\"353,-23.5 408,-23.5 \" stroke=\"black\"/>\n",
       "<text font-family=\"Times,serif\" font-size=\"14.00\" text-anchor=\"middle\" x=\"380.5\" y=\"-8.3\">output:</text>\n",
       "<polyline fill=\"none\" points=\"408,-0.5 408,-46.5 \" stroke=\"black\"/>\n",
       "<text font-family=\"Times,serif\" font-size=\"14.00\" text-anchor=\"middle\" x=\"487.5\" y=\"-31.3\">[(None, 1), (None, 40, 2)]</text>\n",
       "<polyline fill=\"none\" points=\"408,-23.5 567,-23.5 \" stroke=\"black\"/>\n",
       "<text font-family=\"Times,serif\" font-size=\"14.00\" text-anchor=\"middle\" x=\"487.5\" y=\"-8.3\">(None, 40, 2)</text>\n",
       "</g>\n",
       "<!-- 139816946991792&#45;&gt;139816946950440 -->\n",
       "<g class=\"edge\" id=\"edge9\"><title>139816946991792-&gt;139816946950440</title>\n",
       "<path d=\"M469.5,-581.483C469.5,-550.005 469.5,-490.323 469.5,-439.5 469.5,-439.5 469.5,-439.5 469.5,-188.5 469.5,-139.988 465.616,-125.093 441.5,-83 435.39,-72.3355 426.846,-62.2387 418.191,-53.5301\" fill=\"none\" stroke=\"black\"/>\n",
       "<polygon fill=\"black\" points=\"420.579,-50.9703 410.946,-46.5595 415.726,-56.0149 420.579,-50.9703\" stroke=\"black\"/>\n",
       "</g>\n",
       "<!-- 139816946811680 -->\n",
       "<g class=\"node\" id=\"node4\"><title>139816946811680</title>\n",
       "<polygon fill=\"none\" points=\"130.5,-415.5 130.5,-461.5 374.5,-461.5 374.5,-415.5 130.5,-415.5\" stroke=\"black\"/>\n",
       "<text font-family=\"Times,serif\" font-size=\"14.00\" text-anchor=\"middle\" x=\"180\" y=\"-434.8\">Flatten: Flatten</text>\n",
       "<polyline fill=\"none\" points=\"229.5,-415.5 229.5,-461.5 \" stroke=\"black\"/>\n",
       "<text font-family=\"Times,serif\" font-size=\"14.00\" text-anchor=\"middle\" x=\"257\" y=\"-446.3\">input:</text>\n",
       "<polyline fill=\"none\" points=\"229.5,-438.5 284.5,-438.5 \" stroke=\"black\"/>\n",
       "<text font-family=\"Times,serif\" font-size=\"14.00\" text-anchor=\"middle\" x=\"257\" y=\"-423.3\">output:</text>\n",
       "<polyline fill=\"none\" points=\"284.5,-415.5 284.5,-461.5 \" stroke=\"black\"/>\n",
       "<text font-family=\"Times,serif\" font-size=\"14.00\" text-anchor=\"middle\" x=\"329.5\" y=\"-446.3\">(None, 80, 2)</text>\n",
       "<polyline fill=\"none\" points=\"284.5,-438.5 374.5,-438.5 \" stroke=\"black\"/>\n",
       "<text font-family=\"Times,serif\" font-size=\"14.00\" text-anchor=\"middle\" x=\"329.5\" y=\"-423.3\">(None, 160)</text>\n",
       "</g>\n",
       "<!-- 139816946814704&#45;&gt;139816946811680 -->\n",
       "<g class=\"edge\" id=\"edge3\"><title>139816946814704-&gt;139816946811680</title>\n",
       "<path d=\"M248.14,-498.366C248.748,-490.152 249.451,-480.658 250.113,-471.725\" fill=\"none\" stroke=\"black\"/>\n",
       "<polygon fill=\"black\" points=\"253.614,-471.838 250.862,-461.607 246.633,-471.321 253.614,-471.838\" stroke=\"black\"/>\n",
       "</g>\n",
       "<!-- 139816946812296 -->\n",
       "<g class=\"node\" id=\"node5\"><title>139816946812296</title>\n",
       "<polygon fill=\"none\" points=\"130,-332.5 130,-378.5 423,-378.5 423,-332.5 130,-332.5\" stroke=\"black\"/>\n",
       "<text font-family=\"Times,serif\" font-size=\"14.00\" text-anchor=\"middle\" x=\"207.5\" y=\"-351.8\">CFONet_dense_1: Dense</text>\n",
       "<polyline fill=\"none\" points=\"285,-332.5 285,-378.5 \" stroke=\"black\"/>\n",
       "<text font-family=\"Times,serif\" font-size=\"14.00\" text-anchor=\"middle\" x=\"312.5\" y=\"-363.3\">input:</text>\n",
       "<polyline fill=\"none\" points=\"285,-355.5 340,-355.5 \" stroke=\"black\"/>\n",
       "<text font-family=\"Times,serif\" font-size=\"14.00\" text-anchor=\"middle\" x=\"312.5\" y=\"-340.3\">output:</text>\n",
       "<polyline fill=\"none\" points=\"340,-332.5 340,-378.5 \" stroke=\"black\"/>\n",
       "<text font-family=\"Times,serif\" font-size=\"14.00\" text-anchor=\"middle\" x=\"381.5\" y=\"-363.3\">(None, 160)</text>\n",
       "<polyline fill=\"none\" points=\"340,-355.5 423,-355.5 \" stroke=\"black\"/>\n",
       "<text font-family=\"Times,serif\" font-size=\"14.00\" text-anchor=\"middle\" x=\"381.5\" y=\"-340.3\">(None, 100)</text>\n",
       "</g>\n",
       "<!-- 139816946811680&#45;&gt;139816946812296 -->\n",
       "<g class=\"edge\" id=\"edge4\"><title>139816946811680-&gt;139816946812296</title>\n",
       "<path d=\"M259.058,-415.366C261.519,-407.062 264.366,-397.451 267.038,-388.434\" fill=\"none\" stroke=\"black\"/>\n",
       "<polygon fill=\"black\" points=\"270.465,-389.189 269.95,-378.607 263.753,-387.2 270.465,-389.189\" stroke=\"black\"/>\n",
       "</g>\n",
       "<!-- 139816946683240 -->\n",
       "<g class=\"node\" id=\"node6\"><title>139816946683240</title>\n",
       "<polygon fill=\"none\" points=\"136,-249.5 136,-295.5 429,-295.5 429,-249.5 136,-249.5\" stroke=\"black\"/>\n",
       "<text font-family=\"Times,serif\" font-size=\"14.00\" text-anchor=\"middle\" x=\"213.5\" y=\"-268.8\">CFONet_dense_2: Dense</text>\n",
       "<polyline fill=\"none\" points=\"291,-249.5 291,-295.5 \" stroke=\"black\"/>\n",
       "<text font-family=\"Times,serif\" font-size=\"14.00\" text-anchor=\"middle\" x=\"318.5\" y=\"-280.3\">input:</text>\n",
       "<polyline fill=\"none\" points=\"291,-272.5 346,-272.5 \" stroke=\"black\"/>\n",
       "<text font-family=\"Times,serif\" font-size=\"14.00\" text-anchor=\"middle\" x=\"318.5\" y=\"-257.3\">output:</text>\n",
       "<polyline fill=\"none\" points=\"346,-249.5 346,-295.5 \" stroke=\"black\"/>\n",
       "<text font-family=\"Times,serif\" font-size=\"14.00\" text-anchor=\"middle\" x=\"387.5\" y=\"-280.3\">(None, 100)</text>\n",
       "<polyline fill=\"none\" points=\"346,-272.5 429,-272.5 \" stroke=\"black\"/>\n",
       "<text font-family=\"Times,serif\" font-size=\"14.00\" text-anchor=\"middle\" x=\"387.5\" y=\"-257.3\">(None, 100)</text>\n",
       "</g>\n",
       "<!-- 139816946812296&#45;&gt;139816946683240 -->\n",
       "<g class=\"edge\" id=\"edge5\"><title>139816946812296-&gt;139816946683240</title>\n",
       "<path d=\"M278.14,-332.366C278.748,-324.152 279.451,-314.658 280.113,-305.725\" fill=\"none\" stroke=\"black\"/>\n",
       "<polygon fill=\"black\" points=\"283.614,-305.838 280.862,-295.607 276.633,-305.321 283.614,-305.838\" stroke=\"black\"/>\n",
       "</g>\n",
       "<!-- 139816946479400 -->\n",
       "<g class=\"node\" id=\"node7\"><title>139816946479400</title>\n",
       "<polygon fill=\"none\" points=\"142,-166.5 142,-212.5 435,-212.5 435,-166.5 142,-166.5\" stroke=\"black\"/>\n",
       "<text font-family=\"Times,serif\" font-size=\"14.00\" text-anchor=\"middle\" x=\"219.5\" y=\"-185.8\">CFONet_dense_3: Dense</text>\n",
       "<polyline fill=\"none\" points=\"297,-166.5 297,-212.5 \" stroke=\"black\"/>\n",
       "<text font-family=\"Times,serif\" font-size=\"14.00\" text-anchor=\"middle\" x=\"324.5\" y=\"-197.3\">input:</text>\n",
       "<polyline fill=\"none\" points=\"297,-189.5 352,-189.5 \" stroke=\"black\"/>\n",
       "<text font-family=\"Times,serif\" font-size=\"14.00\" text-anchor=\"middle\" x=\"324.5\" y=\"-174.3\">output:</text>\n",
       "<polyline fill=\"none\" points=\"352,-166.5 352,-212.5 \" stroke=\"black\"/>\n",
       "<text font-family=\"Times,serif\" font-size=\"14.00\" text-anchor=\"middle\" x=\"393.5\" y=\"-197.3\">(None, 100)</text>\n",
       "<polyline fill=\"none\" points=\"352,-189.5 435,-189.5 \" stroke=\"black\"/>\n",
       "<text font-family=\"Times,serif\" font-size=\"14.00\" text-anchor=\"middle\" x=\"393.5\" y=\"-174.3\">(None, 100)</text>\n",
       "</g>\n",
       "<!-- 139816946683240&#45;&gt;139816946479400 -->\n",
       "<g class=\"edge\" id=\"edge6\"><title>139816946683240-&gt;139816946479400</title>\n",
       "<path d=\"M284.14,-249.366C284.748,-241.152 285.451,-231.658 286.113,-222.725\" fill=\"none\" stroke=\"black\"/>\n",
       "<polygon fill=\"black\" points=\"289.614,-222.838 286.862,-212.607 282.633,-222.321 289.614,-222.838\" stroke=\"black\"/>\n",
       "</g>\n",
       "<!-- 139816955781360 -->\n",
       "<g class=\"node\" id=\"node8\"><title>139816955781360</title>\n",
       "<polygon fill=\"none\" points=\"162.5,-83.5 162.5,-129.5 432.5,-129.5 432.5,-83.5 162.5,-83.5\" stroke=\"black\"/>\n",
       "<text font-family=\"Times,serif\" font-size=\"14.00\" text-anchor=\"middle\" x=\"228.5\" y=\"-102.8\">CFOEstimate: Dense</text>\n",
       "<polyline fill=\"none\" points=\"294.5,-83.5 294.5,-129.5 \" stroke=\"black\"/>\n",
       "<text font-family=\"Times,serif\" font-size=\"14.00\" text-anchor=\"middle\" x=\"322\" y=\"-114.3\">input:</text>\n",
       "<polyline fill=\"none\" points=\"294.5,-106.5 349.5,-106.5 \" stroke=\"black\"/>\n",
       "<text font-family=\"Times,serif\" font-size=\"14.00\" text-anchor=\"middle\" x=\"322\" y=\"-91.3\">output:</text>\n",
       "<polyline fill=\"none\" points=\"349.5,-83.5 349.5,-129.5 \" stroke=\"black\"/>\n",
       "<text font-family=\"Times,serif\" font-size=\"14.00\" text-anchor=\"middle\" x=\"391\" y=\"-114.3\">(None, 100)</text>\n",
       "<polyline fill=\"none\" points=\"349.5,-106.5 432.5,-106.5 \" stroke=\"black\"/>\n",
       "<text font-family=\"Times,serif\" font-size=\"14.00\" text-anchor=\"middle\" x=\"391\" y=\"-91.3\">(None, 1)</text>\n",
       "</g>\n",
       "<!-- 139816946479400&#45;&gt;139816955781360 -->\n",
       "<g class=\"edge\" id=\"edge7\"><title>139816946479400-&gt;139816955781360</title>\n",
       "<path d=\"M290.959,-166.366C291.872,-158.152 292.927,-148.658 293.919,-139.725\" fill=\"none\" stroke=\"black\"/>\n",
       "<polygon fill=\"black\" points=\"297.418,-139.932 295.044,-129.607 290.461,-139.159 297.418,-139.932\" stroke=\"black\"/>\n",
       "</g>\n",
       "<!-- 139816955781360&#45;&gt;139816946950440 -->\n",
       "<g class=\"edge\" id=\"edge8\"><title>139816955781360-&gt;139816946950440</title>\n",
       "<path d=\"M321,-83.3664C330.765,-74.1695 342.231,-63.3694 352.659,-53.5482\" fill=\"none\" stroke=\"black\"/>\n",
       "<polygon fill=\"black\" points=\"355.149,-56.011 360.029,-46.6068 350.349,-50.9153 355.149,-56.011\" stroke=\"black\"/>\n",
       "</g>\n",
       "</g>\n",
       "</svg>"
      ],
      "text/plain": [
       "<IPython.core.display.SVG object>"
      ]
     },
     "execution_count": 7,
     "metadata": {},
     "output_type": "execute_result"
    }
   ],
   "source": [
    "# Think of keras.Input as tf.placeholder\n",
    "preamble       = tf.keras.layers.Input(shape=(PREAMBLE_LEN, 2), name='Preamble')\n",
    "preamble_conv  = tf.keras.layers.Input(shape=(PREAMBLE_LEN, 2), name='PreambleConvolved')\n",
    "\n",
    "# Build tensorflow graph\n",
    "cfo_estimate           = cfo_network(preamble, preamble_conv)\n",
    "cfo_corrected_preamble = tf.keras.layers.Lambda(cfo_correction_func,\n",
    "                                                name='CFOCorrection')([cfo_estimate, preamble_conv])\n",
    "\n",
    "feed_forward_model = tf.keras.Model(inputs=[preamble, preamble_conv], \n",
    "                                    outputs=cfo_corrected_preamble)\n",
    "\n",
    "print(\"Number of training parameters: %d\" % feed_forward_model.count_params())\n",
    "SVG(model_to_dot(feed_forward_model, show_shapes=True, show_layer_names=True).create(prog='dot', format='svg'))"
   ]
  },
  {
   "cell_type": "markdown",
   "metadata": {},
   "source": [
    "## Training Feedforward model"
   ]
  },
  {
   "cell_type": "code",
   "execution_count": 8,
   "metadata": {
    "colab": {
     "autoexec": {
      "startup": false,
      "wait_interval": 0
     },
     "base_uri": "https://localhost:8080/",
     "height": 153
    },
    "colab_type": "code",
    "id": "JZPWrqfOeJ1y",
    "outputId": "dc02a0bc-df04-4108-d3ff-c94c45c3394f"
   },
   "outputs": [
    {
     "name": "stdout",
     "output_type": "stream",
     "text": [
      "Epoch 1/30\n",
      "1000/1000 [==============================] - 92s 92ms/step - loss: 0.0041 - val_loss: 0.0037\n",
      "Epoch 2/30\n",
      "1000/1000 [==============================] - 88s 88ms/step - loss: 0.0020 - val_loss: 0.0025\n",
      "Epoch 3/30\n",
      "1000/1000 [==============================] - 86s 86ms/step - loss: 0.0017 - val_loss: 0.0025\n",
      "Epoch 4/30\n",
      "1000/1000 [==============================] - 87s 87ms/step - loss: 0.0014 - val_loss: 0.0032\n",
      "Epoch 5/30\n",
      "1000/1000 [==============================] - 87s 87ms/step - loss: 0.0013 - val_loss: 0.0024\n",
      "Epoch 6/30\n",
      "1000/1000 [==============================] - 86s 86ms/step - loss: 0.0013 - val_loss: 0.0025\n",
      "Epoch 7/30\n",
      "1000/1000 [==============================] - 86s 86ms/step - loss: 0.0016 - val_loss: 0.0025\n",
      "Epoch 8/30\n",
      "1000/1000 [==============================] - 86s 86ms/step - loss: 0.0014 - val_loss: 0.0022\n",
      "Epoch 9/30\n",
      "1000/1000 [==============================] - 85s 85ms/step - loss: 0.0014 - val_loss: 0.0023\n",
      "Epoch 10/30\n",
      "1000/1000 [==============================] - 84s 84ms/step - loss: 0.0013 - val_loss: 0.0029\n",
      "Epoch 11/30\n",
      "1000/1000 [==============================] - 84s 84ms/step - loss: 0.0014 - val_loss: 0.0021\n",
      "Epoch 12/30\n",
      "1000/1000 [==============================] - 84s 84ms/step - loss: 0.0012 - val_loss: 0.0022\n",
      "Epoch 13/30\n",
      "1000/1000 [==============================] - 84s 84ms/step - loss: 0.0013 - val_loss: 0.0022\n",
      "Epoch 14/30\n",
      "1000/1000 [==============================] - 86s 86ms/step - loss: 0.0012 - val_loss: 0.0019\n",
      "Epoch 15/30\n",
      "1000/1000 [==============================] - 88s 88ms/step - loss: 9.8285e-04 - val_loss: 0.0027\n",
      "Epoch 16/30\n",
      "1000/1000 [==============================] - 87s 87ms/step - loss: 0.0011 - val_loss: 0.0019\n",
      "Epoch 17/30\n",
      "1000/1000 [==============================] - 88s 88ms/step - loss: 0.0010 - val_loss: 0.0019\n",
      "Epoch 18/30\n",
      "1000/1000 [==============================] - 88s 88ms/step - loss: 0.0010 - val_loss: 0.0019\n",
      "Epoch 19/30\n",
      "1000/1000 [==============================] - 85s 85ms/step - loss: 0.0012 - val_loss: 0.0017\n",
      "Epoch 20/30\n",
      "1000/1000 [==============================] - 86s 86ms/step - loss: 0.0010 - val_loss: 0.0017\n",
      "Epoch 21/30\n",
      "1000/1000 [==============================] - 87s 87ms/step - loss: 8.9858e-04 - val_loss: 0.0015\n",
      "Epoch 22/30\n",
      "1000/1000 [==============================] - 88s 88ms/step - loss: 8.7111e-04 - val_loss: 0.0020\n",
      "Epoch 23/30\n",
      "1000/1000 [==============================] - 88s 88ms/step - loss: 9.5159e-04 - val_loss: 0.0030\n",
      "Epoch 24/30\n",
      "1000/1000 [==============================] - 88s 88ms/step - loss: 8.9152e-04 - val_loss: 0.0016\n",
      "Epoch 25/30\n",
      "1000/1000 [==============================] - 89s 89ms/step - loss: 8.9161e-04 - val_loss: 0.0017\n",
      "Epoch 26/30\n",
      "1000/1000 [==============================] - 87s 87ms/step - loss: 7.2711e-04 - val_loss: 0.0017\n",
      "Epoch 27/30\n",
      "1000/1000 [==============================] - 87s 87ms/step - loss: 9.8202e-04 - val_loss: 0.0016\n",
      "Epoch 28/30\n",
      "1000/1000 [==============================] - 87s 87ms/step - loss: 7.4002e-04 - val_loss: 0.0018\n",
      "Epoch 29/30\n",
      "1000/1000 [==============================] - 86s 86ms/step - loss: 6.7593e-04 - val_loss: 0.0017\n",
      "Epoch 30/30\n",
      "1000/1000 [==============================] - 87s 87ms/step - loss: 8.6197e-04 - val_loss: 0.0031\n"
     ]
    }
   ],
   "source": [
    "feed_forward_model.compile('adam','mse')\n",
    "\n",
    "# Load pretrained-weights from cheating with omegas\n",
    "feed_forward_model.load_weights('../models/cfo_nn.hdf5')\n",
    "\n",
    "history = feed_forward_model.fit_generator(\n",
    "    generator=training_generator,\n",
    "    validation_data=validation_generator,\n",
    "    steps_per_epoch=1000,\n",
    "    validation_steps=100,\n",
    "    callbacks=[tf.keras.callbacks.ModelCheckpoint('nn.hdf5', save_best_only=True)],\n",
    "    epochs=30, \n",
    "    workers=8)"
   ]
  },
  {
   "cell_type": "code",
   "execution_count": 9,
   "metadata": {
    "scrolled": false
   },
   "outputs": [
    {
     "data": {
      "image/png": "[encoded data removed]",
      "text/plain": [
       "<Figure size 432x288 with 1 Axes>"
      ]
     },
     "metadata": {},
     "output_type": "display_data"
    }
   ],
   "source": [
    "# Source: https://machinelearningmastery.com/display-deep-learning-model-training-history-in-keras/\n",
    "plt.plot(history.history['loss'])\n",
    "plt.plot(history.history['val_loss'])\n",
    "plt.title('model loss')\n",
    "plt.ylabel('Loss')\n",
    "plt.xlabel('Epoch')\n",
    "plt.legend(['Training', 'Validation'], loc='upper left')\n",
    "plt.grid()\n",
    "plt.semilogy()\n",
    "plt.show()"
   ]
  },
  {
   "cell_type": "markdown",
   "metadata": {
    "colab_type": "text",
    "id": "c2pXMQDOeJ2R"
   },
   "source": [
    "## Second Approach: Recurrent Model"
   ]
  },
  {
   "cell_type": "code",
   "execution_count": null,
   "metadata": {
    "colab": {
     "autoexec": {
      "startup": false,
      "wait_interval": 0
     },
     "base_uri": "https://localhost:8080/",
     "height": 556
    },
    "colab_type": "code",
    "executionInfo": {
     "elapsed": 1767,
     "status": "ok",
     "timestamp": 1532642820304,
     "user": {
      "displayName": "Dat Nguyen",
      "photoUrl": "//lh3.googleusercontent.com/-irIcNYd-KIw/AAAAAAAAAAI/AAAAAAAAAEs/NlM8kG6RL4Q/s50-c-k-no/photo.jpg",
      "userId": "108917076199533451784"
     },
     "user_tz": 420
    },
    "id": "8sY3eOBVeJ2V",
    "outputId": "e3935bdc-1867-4c74-c90f-e372e6fc7444"
   },
   "outputs": [],
   "source": [
    "from tensorflow.keras.layers import Input, Bidirectional, GRU, TimeDistributed, Dense\n",
    "\n",
    "def cfo_rnn_network(preamble, preamble_conv, scope=\"CFONet\"):\n",
    "    \"\"\"\n",
    "    Arguments:\n",
    "        preamble :     tf.Tensor float32 -  [batch, preamble_length, 2]\n",
    "        preamble_conv: tf.Tensor float32 -  [batch, preamble_length, 2]\n",
    "    Return:\n",
    "        cfo_est: tf.Tensor float32 - [batch_size, 1]\n",
    "    \"\"\"\n",
    "    with tf.name_scope(scope):\n",
    "        inputs = tf.keras.layers.concatenate([preamble, preamble_conv], axis=-1, \n",
    "                                             name='Preamble_PreambleConv')\n",
    "        x = Bidirectional(GRU(40, 'selu', return_sequences=True), name=scope+\"_GRU_1\")(inputs)\n",
    "        x = Bidirectional(GRU(40, 'selu', return_sequences=False),name=scope+\"_GRU_2\")(x)\n",
    "        cfo_est = Dense(1, 'linear', name='CFOEstimate')(x)\n",
    "    return cfo_est\n",
    "\n",
    "# ############################\n",
    "# Construct Recurrent Model\n",
    "# ############################\n",
    "preamble        = Input(shape=(None, 2), name='preamble')\n",
    "preamble_conv   = Input(shape=(None, 2), name='preamble_conv')\n",
    "\n",
    "cfo_estimate  = cfo_rnn_network(preamble, preamble_conv)\n",
    "cfo_corrected_preamble = tf.keras.layers.Lambda(cfo_correction_func,\n",
    "                                                name='CFOCorrection')([cfo_estimate, preamble_conv])\n",
    "\n",
    "recurrent_model = tf.keras.Model([preamble, preamble_conv], cfo_corrected_preamble)\n",
    "\n",
    "print(\"Number of training parameters: %d\" % recurrent_model.count_params())\n",
    "tf.keras.utils.plot_model(recurrent_model, \"cfo_rnn_model.svg\", show_shapes=True, show_layer_names=True)\n",
    "SVG(\"cfo_rnn_model.svg\")"
   ]
  },
  {
   "cell_type": "markdown",
   "metadata": {},
   "source": [
    "## Training Recurrent model"
   ]
  },
  {
   "cell_type": "code",
   "execution_count": null,
   "metadata": {
    "colab": {
     "autoexec": {
      "startup": false,
      "wait_interval": 0
     },
     "base_uri": "https://localhost:8080/",
     "height": 220
    },
    "colab_type": "code",
    "executionInfo": {
     "elapsed": 521112,
     "status": "ok",
     "timestamp": 1532643455572,
     "user": {
      "displayName": "Dat Nguyen",
      "photoUrl": "//lh3.googleusercontent.com/-irIcNYd-KIw/AAAAAAAAAAI/AAAAAAAAAEs/NlM8kG6RL4Q/s50-c-k-no/photo.jpg",
      "userId": "108917076199533451784"
     },
     "user_tz": 420
    },
    "id": "nCkLrXmGeJ2o",
    "outputId": "5822ac06-b552-4bfc-c64a-0d976ae2e151"
   },
   "outputs": [],
   "source": [
    "recurrent_model.compile('adam','mse')\n",
    "\n",
    "# Load a pretrained model from cheating with real omegas\n",
    "recurrent_model.load_weights('../models/cfo_rnn.hdf5')  \n",
    "\n",
    "history = recurrent_model.fit_generator(\n",
    "    generator=training_generator,\n",
    "    validation_data=validation_generator,\n",
    "    steps_per_epoch=1000,\n",
    "    validation_steps=100,\n",
    "    callbacks=[tf.keras.callbacks.ModelCheckpoint('rnn.hdf5', save_best_only=True)],\n",
    "    epochs=20, \n",
    "    workers=8)"
   ]
  },
  {
   "cell_type": "code",
   "execution_count": null,
   "metadata": {},
   "outputs": [],
   "source": [
    "# Source: https://machinelearningmastery.com/display-deep-learning-model-training-history-in-keras/\n",
    "plt.plot(history.history['loss'])\n",
    "plt.plot(history.history['val_loss'])\n",
    "plt.title('model loss')\n",
    "plt.ylabel('Loss')\n",
    "plt.xlabel('Epoch')\n",
    "plt.legend(['Training', 'Validation'], loc='upper left')\n",
    "plt.grid()\n",
    "plt.semilogy()\n",
    "plt.show()"
   ]
  },
  {
   "cell_type": "markdown",
   "metadata": {},
   "source": [
    "## Evaluate models on different Omegas and SNRs"
   ]
  },
  {
   "cell_type": "code",
   "execution_count": null,
   "metadata": {
    "colab": {
     "autoexec": {
      "startup": false,
      "wait_interval": 0
     },
     "base_uri": "https://localhost:8080/",
     "height": 86
    },
    "colab_type": "code",
    "executionInfo": {
     "elapsed": 1192,
     "status": "ok",
     "timestamp": 1532643520537,
     "user": {
      "displayName": "Dat Nguyen",
      "photoUrl": "//lh3.googleusercontent.com/-irIcNYd-KIw/AAAAAAAAAAI/AAAAAAAAAEs/NlM8kG6RL4Q/s50-c-k-no/photo.jpg",
      "userId": "108917076199533451784"
     },
     "user_tz": 420
    },
    "id": "YE1Eid_jeJ20",
    "outputId": "979f2626-d17e-47c4-c9f0-2e268b8d8d59"
   },
   "outputs": [],
   "source": [
    "# Load best trained models\n",
    "import tensorflow as tf\n",
    "\n",
    "feedforward = tf.keras.models.load_model('nn.hdf5', custom_objects={\"tf\": tf})\n",
    "recurrent_nn = tf.keras.models.load_model('rnn.hdf5',custom_objects={\"tf\": tf})\n",
    "\n",
    "radio = RadioData(data_len    =DATA_LEN, \n",
    "                  preamble_len=PREAMBLE_LEN,\n",
    "                  channels_len=CHANNEL_LEN,\n",
    "                  modulation_scheme='QPSK')\n",
    "\n",
    "logs = {}\n",
    "for w in [1/20, 1/50, 1/100]:\n",
    "    logs[w] = []\n",
    "    print('[Omega]: %f' % w)\n",
    "    for snr in [10.0, 15.0, 20.0, 25.0]:\n",
    "        # Define testing data\n",
    "        test_inputs, test_labels = next(cfo_data_genenerator(radio, w, snr, batch_size=100, seed=2020))\n",
    "        \n",
    "        # Make Predictions\n",
    "        rnn_predictions = recurrent_nn.predict(test_inputs)\n",
    "        nn_predictions  = feedforward.predict(test_inputs)\n",
    "        \n",
    "        # Compute MSE\n",
    "        nn_mse = mean_squared_error(test_labels.flatten(), nn_predictions.flatten())\n",
    "        rnn_mse =mean_squared_error(test_labels.flatten(), rnn_predictions.flatten())\n",
    "        \n",
    "        print('\\t[SNR]: %.2f || Feedforward MSE: %.8f || RecurrentNN MSE: %.8f'% (snr, nn_mse, rnn_mse))\n",
    "        logs[w].append([nn_mse, rnn_mse])"
   ]
  },
  {
   "cell_type": "code",
   "execution_count": null,
   "metadata": {},
   "outputs": [],
   "source": [
    "k= np.random.randint(0, len(test_labels) - 5)\n",
    "print('K=%d'%k)\n",
    "print(\"True CFO Rate:         \", test_labels.flatten()[k:k+6])\n",
    "print(\"RNN Estimate CFO Rate: \", rnn_predictions.flatten()[k:k+6].T)\n",
    "print(\"NN  Estimate CFO Rate: \", nn_predictions.flatten()[k:k+6].T)"
   ]
  },
  {
   "cell_type": "markdown",
   "metadata": {},
   "source": [
    "## Evaluate on longer preamble"
   ]
  },
  {
   "cell_type": "code",
   "execution_count": null,
   "metadata": {},
   "outputs": [],
   "source": [
    "radio = RadioData(data_len    =DATA_LEN, \n",
    "                  preamble_len=2*PREAMBLE_LEN,  # 80\n",
    "                  channels_len=CHANNEL_LEN,\n",
    "                  modulation_scheme='QPSK')\n",
    "logs = {}\n",
    "for w in [1/20, 1/50, 1/100]:\n",
    "    logs[w] = []\n",
    "    print('[Omega]: %f' % w)\n",
    "    for snr in [10.0, 15.0, 20.0, 25.0]:\n",
    "        # Define testing data\n",
    "        test_inputs, test_labels = next(cfo_data_genenerator(radio, w, snr, batch_size=100, seed=2020))\n",
    "        \n",
    "        # Make Predictions\n",
    "        rnn_predictions = recurrent_nn.predict(test_inputs)\n",
    "        \n",
    "        # Compute MSE\n",
    "        rnn_mse =mean_squared_error(test_labels.flatten(), rnn_predictions.flatten())\n",
    "        \n",
    "        print('\\t[SNR]: %.2f  RecurrentNN MSE: %.8f'% (snr, rnn_mse))\n",
    "        logs[w].append([nn_mse, rnn_mse])"
   ]
  },
  {
   "cell_type": "code",
   "execution_count": null,
   "metadata": {},
   "outputs": [],
   "source": []
  }
 ],
 "metadata": {
  "accelerator": "GPU",
  "colab": {
   "collapsed_sections": [],
   "default_view": {},
   "name": "Copy of TrainCFONet.ipynb",
   "provenance": [
    {
     "file_id": "14VQfWvCqZQ1Ui16uXdtbU2Hpp3nDHGIu",
     "timestamp": 1532642180478
    }
   ],
   "version": "0.3.2",
   "views": {}
  },
  "kernelspec": {
   "display_name": "Radio ML",
   "language": "python",
   "name": "radioml"
  },
  "language_info": {
   "codemirror_mode": {
    "name": "ipython",
    "version": 3
   },
   "file_extension": ".py",
   "mimetype": "text/x-python",
   "name": "python",
   "nbconvert_exporter": "python",
   "pygments_lexer": "ipython3",
   "version": "3.6.6"
  }
 },
 "nbformat": 4,
 "nbformat_minor": 1
}
