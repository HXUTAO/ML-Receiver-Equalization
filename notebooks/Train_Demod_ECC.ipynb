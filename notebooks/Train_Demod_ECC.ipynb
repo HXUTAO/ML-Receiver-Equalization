{
 "cells": [
  {
   "cell_type": "markdown",
   "metadata": {
    "colab_type": "text",
    "id": "ROD0y3TeNddr"
   },
   "source": [
    "# RadioML Receiver\n",
    "\n",
    "### A Recurrent Neural Network for Learning to demodulate and decode noisy signals over AWGN Channel.\n",
    "\n",
    "___"
   ]
  },
  {
   "cell_type": "markdown",
   "metadata": {
    "colab_type": "text",
    "id": "18u41hUUMZkz"
   },
   "source": [
    "# Environment Setup\n",
    "\n",
    "Download & install and import packages for this tutorial\n"
   ]
  },
  {
   "cell_type": "code",
   "execution_count": 1,
   "metadata": {},
   "outputs": [],
   "source": [
    "# Import local module\n",
    "import time\n",
    "import os\n",
    "import sys\n",
    "# a hack to import module from different directory\n",
    "module_path = os.path.abspath(os.path.join('..'))\n",
    "if module_path not in sys.path:\n",
    "    sys.path.append(module_path)"
   ]
  },
  {
   "cell_type": "code",
   "execution_count": 2,
   "metadata": {
    "colab": {
     "autoexec": {
      "startup": false,
      "wait_interval": 0
     },
     "base_uri": "https://localhost:8080/",
     "height": 52
    },
    "colab_type": "code",
    "executionInfo": {
     "elapsed": 11306,
     "status": "ok",
     "timestamp": 1532421239892,
     "user": {
      "displayName": "Dat Nguyen",
      "photoUrl": "//lh3.googleusercontent.com/-irIcNYd-KIw/AAAAAAAAAAI/AAAAAAAAAEs/NlM8kG6RL4Q/s50-c-k-no/photo.jpg",
      "userId": "108917076199533451784"
     },
     "user_tz": 420
    },
    "id": "sHIc3Fq1NLRr",
    "outputId": "66bb06bb-e5a8-490b-c8e1-6198548ef382"
   },
   "outputs": [
    {
     "name": "stdout",
     "output_type": "stream",
     "text": [
      "\n",
      "Environment setup is completed.\n"
     ]
    }
   ],
   "source": [
    "import multiprocessing as mp\n",
    "import random \n",
    "import numpy as np\n",
    "import commpy as cp\n",
    "from commpy.channelcoding import Trellis\n",
    "from commpy.modulation import QAMModem, PSKModem\n",
    "\n",
    "# For baseline comparision\n",
    "from radioml.metrics import get_ber_bler\n",
    "from radioml.models import Baseline \n",
    "\n",
    "# For data generator\n",
    "from radioml.dataset import RadioDataGenerator\n",
    "\n",
    "# For visualization\n",
    "import pylab\n",
    "import matplotlib.pyplot as plt\n",
    "import matplotlib.gridspec as gridspec\n",
    "import seaborn as sns\n",
    "sns.set()\n",
    "\n",
    "print(\"\\nEnvironment setup is completed.\")"
   ]
  },
  {
   "cell_type": "markdown",
   "metadata": {
    "colab_type": "text",
    "id": "uUkGsBo8Y5XW"
   },
   "source": [
    "# Define parameters for this experiment"
   ]
  },
  {
   "cell_type": "code",
   "execution_count": 3,
   "metadata": {
    "colab": {
     "autoexec": {
      "startup": false,
      "wait_interval": 0
     }
    },
    "colab_type": "code",
    "id": "-4vqq3NBY5Xa"
   },
   "outputs": [],
   "source": [
    "DATA_LENGTH  = 100\n",
    "DATA_RATE    = 1/2\n",
    "SNR_TRAIN    = 8.0 \n",
    "\n",
    "modem = QAMModem(4) \n",
    "trellis = Trellis(memory = np.array([2]),\n",
    "                  g_matrix = np.array([[0o7, 0o5]]))"
   ]
  },
  {
   "cell_type": "markdown",
   "metadata": {
    "colab_type": "text",
    "id": "ZO0F4ydKP_SE"
   },
   "source": [
    "## Create training data generator and validation set"
   ]
  },
  {
   "cell_type": "code",
   "execution_count": 4,
   "metadata": {
    "scrolled": false
   },
   "outputs": [
    {
     "name": "stdout",
     "output_type": "stream",
     "text": [
      "CPU times: user 577 ms, sys: 257 ms, total: 834 ms\n",
      "Wall time: 4.77 s\n"
     ]
    },
    {
     "data": {
      "image/png": "[encoded data removed]",
      "text/plain": [
       "<Figure size 432x288 with 1 Axes>"
      ]
     },
     "metadata": {},
     "output_type": "display_data"
    }
   ],
   "source": [
    "%%time\n",
    "radio = RadioDataGenerator(DATA_LENGTH, 40, 1, modulation_scheme='QPSK')\n",
    "\n",
    "training_generator   = radio.ecc_data_generator(1/1000, SNR_TRAIN, batch_size=256, num_cpus=16, seed=None)\n",
    "x_dev, y_dev =  next(radio.ecc_data_generator(1/1000, SNR_TRAIN, batch_size=12800, num_cpus=16, seed=2018))\n",
    "\n",
    "## Visualize samples\n",
    "equalized_data, data_estimate = next(training_generator)\n",
    "plt.scatter(equalized_data.reshape((-1, 2))[...,0],\n",
    "           equalized_data.reshape((-1, 2))[...,1])"
   ]
  },
  {
   "cell_type": "markdown",
   "metadata": {
    "colab_type": "text",
    "id": "fzIgWXzhY5ZN"
   },
   "source": [
    "## Measure baseline performance (Classic Demodulation + Viterbi)\n"
   ]
  },
  {
   "cell_type": "code",
   "execution_count": 5,
   "metadata": {
    "colab": {
     "autoexec": {
      "startup": false,
      "wait_interval": 0
     },
     "base_uri": "https://localhost:8080/",
     "height": 52
    },
    "colab_type": "code",
    "executionInfo": {
     "elapsed": 3324,
     "status": "ok",
     "timestamp": 1532421247835,
     "user": {
      "displayName": "Dat Nguyen",
      "photoUrl": "//lh3.googleusercontent.com/-irIcNYd-KIw/AAAAAAAAAAI/AAAAAAAAAEs/NlM8kG6RL4Q/s50-c-k-no/photo.jpg",
      "userId": "108917076199533451784"
     },
     "user_tz": 420
    },
    "id": "UrXMpwthY5ZR",
    "outputId": "399bdca8-5c57-4697-c4f9-9a95b7ee56ce"
   },
   "outputs": [
    {
     "name": "stdout",
     "output_type": "stream",
     "text": [
      "Baseline BER: 0.0007\n",
      "Baseline BLER: 0.04805\n"
     ]
    }
   ],
   "source": [
    "baseline_receiver = Baseline(modulation_scheme='QPSK')\n",
    "\n",
    "with mp.Pool(mp.cpu_count()) as pool:\n",
    "    baseline_estimated = pool.map(baseline_receiver, [i.view(complex) for i in x_dev])\n",
    "    data_estimate = np.array(baseline_estimated)\n",
    "    data_original = np.squeeze(y_dev, -1)  # (batch, 200, 1) to (batch, 200)\n",
    "    \n",
    "ber, bler = get_ber_bler(data_estimate, \n",
    "                         data_original)\n",
    "print('Baseline BER: %.4f' % ber)\n",
    "print('Baseline BLER: %.5f' % bler)"
   ]
  },
  {
   "cell_type": "markdown",
   "metadata": {
    "colab_type": "text",
    "id": "i0C-2QYyY5Zf"
   },
   "source": [
    " # Construct a Recurrent  Neural Network \n",
    " \n",
    "Here we implement an RNN that will read encoded complex inputs and estimate the orignal message bits"
   ]
  },
  {
   "cell_type": "code",
   "execution_count": 6,
   "metadata": {
    "colab": {
     "autoexec": {
      "startup": false,
      "wait_interval": 0
     },
     "base_uri": "https://localhost:8080/",
     "height": 351
    },
    "colab_type": "code",
    "executionInfo": {
     "elapsed": 1923,
     "status": "ok",
     "timestamp": 1532421250046,
     "user": {
      "displayName": "Dat Nguyen",
      "photoUrl": "//lh3.googleusercontent.com/-irIcNYd-KIw/AAAAAAAAAAI/AAAAAAAAAEs/NlM8kG6RL4Q/s50-c-k-no/photo.jpg",
      "userId": "108917076199533451784"
     },
     "user_tz": 420
    },
    "id": "JcozPuNKY5Zh",
    "outputId": "515a2d96-b85c-45ef-9d8c-0a630e6904a5"
   },
   "outputs": [
    {
     "name": "stdout",
     "output_type": "stream",
     "text": [
      "_________________________________________________________________\n",
      "Layer (type)                 Output Shape              Param #   \n",
      "=================================================================\n",
      "input_1 (InputLayer)         (None, None, 2)           0         \n",
      "_________________________________________________________________\n",
      "bidirectional (Bidirectional (None, None, 400)         324800    \n",
      "_________________________________________________________________\n",
      "bidirectional_1 (Bidirection (None, None, 400)         961600    \n",
      "_________________________________________________________________\n",
      "time_distributed (TimeDistri (None, None, 1)           401       \n",
      "=================================================================\n",
      "Total params: 1,286,801\n",
      "Trainable params: 1,286,801\n",
      "Non-trainable params: 0\n",
      "_________________________________________________________________\n"
     ]
    }
   ],
   "source": [
    "# For end2end receiver\n",
    "import tensorflow as tf\n",
    "from tensorflow.keras.layers import Input, Dense, BatchNormalization\n",
    "from tensorflow.keras.layers import LSTM, Bidirectional, TimeDistributed\n",
    "\n",
    "# To avoid accidenttally run this cell multiple times.\n",
    "tf.keras.backend.clear_session()\n",
    "\n",
    "inputs  = Input(shape=(None, 2))\n",
    "x = Bidirectional(LSTM(200, return_sequences=True))(inputs)\n",
    "x = Bidirectional(LSTM(200, return_sequences=True))(x)\n",
    "outputs = TimeDistributed(Dense(1, activation='sigmoid'))(x)\n",
    "\n",
    "model = tf.keras.Model(inputs, outputs)\n",
    "model.summary()"
   ]
  },
  {
   "cell_type": "markdown",
   "metadata": {
    "colab_type": "text",
    "id": "LaaMODV3UnwF"
   },
   "source": [
    "## Define Loss Function / Metrics (BER/BLER) for training."
   ]
  },
  {
   "cell_type": "code",
   "execution_count": 7,
   "metadata": {
    "colab": {
     "autoexec": {
      "startup": false,
      "wait_interval": 0
     },
     "base_uri": "https://localhost:8080/",
     "height": 178
    },
    "colab_type": "code",
    "executionInfo": {
     "elapsed": 20718,
     "status": "ok",
     "timestamp": 1532421271175,
     "user": {
      "displayName": "Dat Nguyen",
      "photoUrl": "//lh3.googleusercontent.com/-irIcNYd-KIw/AAAAAAAAAAI/AAAAAAAAAEs/NlM8kG6RL4Q/s50-c-k-no/photo.jpg",
      "userId": "108917076199533451784"
     },
     "user_tz": 420
    },
    "id": "abHjTgDgY5Zw",
    "outputId": "77a97512-7512-43ef-f9f4-c040df98d5ad"
   },
   "outputs": [],
   "source": [
    "def BLER(y, y_pred):\n",
    "    num_blocks_per_batch = tf.cast(tf.shape(y)[0], tf.int64)\n",
    "    hamming_distances =  tf.cast(tf.not_equal(y, tf.round(y_pred)), tf.int32)\n",
    "    return tf.count_nonzero(tf.reduce_sum(hamming_distances, axis=1)) \\\n",
    "            / num_blocks_per_batch\n",
    "\n",
    "model.compile('adam','binary_crossentropy', metrics=[BLER])"
   ]
  },
  {
   "cell_type": "code",
   "execution_count": 8,
   "metadata": {},
   "outputs": [
    {
     "name": "stdout",
     "output_type": "stream",
     "text": [
      "Epoch 1/20\n",
      "200/200 [==============================] - 103s 513ms/step - loss: 0.2496 - BLER: 0.5227 - val_loss: 7.3024e-04 - val_BLER: 0.0098\n",
      "Epoch 2/20\n",
      "200/200 [==============================] - 96s 479ms/step - loss: 4.1856e-04 - BLER: 0.0063 - val_loss: 2.9401e-04 - val_BLER: 0.0050\n",
      "Epoch 3/20\n",
      "200/200 [==============================] - 96s 481ms/step - loss: 1.8126e-04 - BLER: 0.0028 - val_loss: 1.4592e-04 - val_BLER: 0.0027\n",
      "Epoch 4/20\n",
      "200/200 [==============================] - 96s 482ms/step - loss: 1.1301e-04 - BLER: 0.0018 - val_loss: 8.8244e-05 - val_BLER: 0.0015\n",
      "Epoch 5/20\n",
      "200/200 [==============================] - 96s 481ms/step - loss: 8.3738e-05 - BLER: 0.0015 - val_loss: 6.4451e-05 - val_BLER: 8.5938e-04\n",
      "Epoch 6/20\n",
      "200/200 [==============================] - 96s 482ms/step - loss: 7.5286e-05 - BLER: 0.0015 - val_loss: 5.8278e-05 - val_BLER: 0.0013\n",
      "Epoch 7/20\n",
      "200/200 [==============================] - 96s 481ms/step - loss: 4.5110e-05 - BLER: 7.6172e-04 - val_loss: 4.3063e-05 - val_BLER: 9.3750e-04\n",
      "Epoch 8/20\n",
      "200/200 [==============================] - 96s 481ms/step - loss: 5.2885e-05 - BLER: 0.0012 - val_loss: 6.6503e-05 - val_BLER: 0.0018\n",
      "Epoch 9/20\n",
      "200/200 [==============================] - 96s 481ms/step - loss: 4.5853e-05 - BLER: 9.9609e-04 - val_loss: 4.8529e-05 - val_BLER: 0.0013\n",
      "Epoch 10/20\n",
      "200/200 [==============================] - 96s 482ms/step - loss: 4.0441e-05 - BLER: 6.6406e-04 - val_loss: 3.7920e-05 - val_BLER: 7.8125e-04\n",
      "Epoch 11/20\n",
      "200/200 [==============================] - 97s 483ms/step - loss: 4.0584e-05 - BLER: 9.1797e-04 - val_loss: 2.6834e-05 - val_BLER: 4.6875e-04\n",
      "Epoch 12/20\n",
      "200/200 [==============================] - 96s 482ms/step - loss: 3.6796e-05 - BLER: 9.9609e-04 - val_loss: 5.5099e-05 - val_BLER: 0.0016\n",
      "Epoch 13/20\n",
      "200/200 [==============================] - 96s 481ms/step - loss: 3.2873e-05 - BLER: 7.8125e-04 - val_loss: 3.2384e-05 - val_BLER: 0.0012\n",
      "Epoch 14/20\n",
      "200/200 [==============================] - 97s 483ms/step - loss: 3.9911e-05 - BLER: 8.0078e-04 - val_loss: 2.3435e-05 - val_BLER: 4.6875e-04\n",
      "Epoch 15/20\n",
      "200/200 [==============================] - 97s 486ms/step - loss: 2.4759e-05 - BLER: 5.4688e-04 - val_loss: 1.9895e-05 - val_BLER: 5.4688e-04\n",
      "Epoch 16/20\n",
      "200/200 [==============================] - 97s 487ms/step - loss: 3.0916e-05 - BLER: 9.3750e-04 - val_loss: 3.6851e-05 - val_BLER: 9.3750e-04\n",
      "Epoch 17/20\n",
      "200/200 [==============================] - 96s 481ms/step - loss: 3.5350e-05 - BLER: 9.9609e-04 - val_loss: 2.3776e-05 - val_BLER: 6.2500e-04\n",
      "Epoch 18/20\n",
      "200/200 [==============================] - 96s 482ms/step - loss: 2.2167e-05 - BLER: 6.8359e-04 - val_loss: 2.4353e-05 - val_BLER: 7.0312e-04\n",
      "Epoch 19/20\n",
      "200/200 [==============================] - 96s 481ms/step - loss: 3.3468e-05 - BLER: 7.8125e-04 - val_loss: 2.0634e-05 - val_BLER: 6.2500e-04\n",
      "Epoch 20/20\n",
      "200/200 [==============================] - 96s 482ms/step - loss: 1.7412e-05 - BLER: 4.1016e-04 - val_loss: 2.1044e-05 - val_BLER: 5.4688e-04\n"
     ]
    },
    {
     "data": {
      "text/plain": [
       "<tensorflow.python.keras.callbacks.History at 0x7f103c98ef60>"
      ]
     },
     "execution_count": 8,
     "metadata": {},
     "output_type": "execute_result"
    }
   ],
   "source": [
    "backup_model = tf.keras.callbacks.ModelCheckpoint('demod_decoder_snr8.hdf5', \n",
    "                                                  monitor='val_BLER',  # save model that has best BLER performance\n",
    "                                                  save_best_only=True)\n",
    "\n",
    "model.fit_generator(\n",
    "    generator= training_generator,\n",
    "    steps_per_epoch=200,\n",
    "    validation_data=(x_dev, y_dev),\n",
    "    callbacks=[backup_model],\n",
    "    epochs=20)"
   ]
  },
  {
   "cell_type": "markdown",
   "metadata": {
    "colab_type": "text",
    "id": "7cdmmpKuWsFj"
   },
   "source": [
    "# Evaluate on multiple $SNRs$ at data_len = 100."
   ]
  },
  {
   "cell_type": "code",
   "execution_count": 9,
   "metadata": {
    "colab": {
     "autoexec": {
      "startup": false,
      "wait_interval": 0
     },
     "base_uri": "https://localhost:8080/",
     "height": 439
    },
    "colab_type": "code",
    "executionInfo": {
     "elapsed": 31356,
     "status": "ok",
     "timestamp": 1532421417328,
     "user": {
      "displayName": "Dat Nguyen",
      "photoUrl": "//lh3.googleusercontent.com/-irIcNYd-KIw/AAAAAAAAAAI/AAAAAAAAAEs/NlM8kG6RL4Q/s50-c-k-no/photo.jpg",
      "userId": "108917076199533451784"
     },
     "user_tz": 420
    },
    "id": "6gA2Q4rH3T7R",
    "outputId": "aa0c078c-9184-4e79-9be9-7708d20da541"
   },
   "outputs": [
    {
     "name": "stdout",
     "output_type": "stream",
     "text": [
      "SNR_dB = 0.000000\n",
      "\t[Modular]  Ber = 0.14168400 | Bler =0.99890000 - 7.58832s\n",
      "\t[Baseline] Ber = 0.21226500 | Bler =0.99960000 - 113.29151s\n",
      "SNR_dB = 3.000000\n",
      "\t[Modular]  Ber = 0.01626967 | Bler =0.60213333 - 6.89313s\n",
      "\t[Baseline] Ber = 0.04673367 | Bler =0.83133333 - 113.11327s\n",
      "SNR_dB = 5.000000\n",
      "\t[Modular]  Ber = 0.00118267 | Bler =0.08253333 - 6.92947s\n",
      "\t[Baseline] Ber = 0.00932500 | Bler =0.37660000 - 114.53455s\n",
      "SNR_dB = 7.000000\n",
      "\t[Modular]  Ber = 0.00003967 | Bler =0.00336667 - 7.12283s\n",
      "\t[Baseline] Ber = 0.00177667 | Bler =0.10513333 - 113.76675s\n",
      "SNR_dB = 10.000000\n",
      "\t[Modular]  Ber = 0.00000000 | Bler =0.00000000 - 75.27857s\n",
      "\t[Baseline] Ber = 0.00009133 | Bler =0.00646667 - 115.34519s\n",
      "SNR_dB = 12.000000\n",
      "\t[Modular]  Ber = 0.00000000 | Bler =0.00000000 - 6.95654s\n",
      "\t[Baseline] Ber = 0.00000367 | Bler =0.00026667 - 113.81340s\n"
     ]
    }
   ],
   "source": [
    "model.load_weights('demod_decoder_snr8.hdf5')\n",
    "\n",
    "class Params:\n",
    "    SNR_RANGE = [0.0, 3.0, 5.0, 7.0, 10.0, 12.0]\n",
    "    NUM_SAMPLES = 30000\n",
    "    BLOCK_LENGTH = 100\n",
    "   \n",
    "radio = RadioDataGenerator(Params.BLOCK_LENGTH, 10, 1, modulation_scheme='QPSK')\n",
    "\n",
    "ber_logs, bler_logs = [], []\n",
    "for i, snr in enumerate(Params.SNR_RANGE):\n",
    "    print('SNR_dB = %f' % snr)\n",
    "    x_test, y_test = next(radio.ecc_data_generator(1/1000, \n",
    "                                                   snr, \n",
    "                                                   batch_size=Params.NUM_SAMPLES, \n",
    "                                                   num_cpus=16, \n",
    "                                                   seed=2019))\n",
    "    \n",
    "    Y_test = np.squeeze(y_test, -1)  #(batch, 100, 1) to (batch, 100)\n",
    "    # Run Baseline/Neral Receiver\n",
    "    t1 = time.time()\n",
    "    with mp.Pool(mp.cpu_count()) as pool:\n",
    "        baseline_estimate = pool.map(baseline_receiver, [i.view(complex) for i in x_test])\n",
    "\n",
    "    t2 = time.time()\n",
    "    \n",
    "    predictions = model.predict(x_test, 500)\n",
    "    nn_estimate = np.squeeze(predictions, -1).round()\n",
    "    t3 = time.time()\n",
    "    \n",
    "    # Measure BER / BKER for two receivers\n",
    "    ber, bler       = get_ber_bler(np.array(baseline_estimate), Y_test)\n",
    "    nn_ber, nn_bler = get_ber_bler(nn_estimate, Y_test)\n",
    "    print('\\t[Modular]  Ber = {:.8f} | Bler ={:.8f} - {:3.5f}s'.format(nn_ber, nn_bler, t3 - t2))\n",
    "    print('\\t[Baseline] Ber = {:.8f} | Bler ={:.8f} - {:3.5f}s'.format(ber, bler, t2-t1))\n",
    "    \n",
    "    ber_logs.append([ber, nn_ber])\n",
    "    bler_logs.append([bler, nn_bler])"
   ]
  },
  {
   "cell_type": "code",
   "execution_count": 10,
   "metadata": {},
   "outputs": [],
   "source": [
    "np.savetxt('ber_decoder_bl100.txt', ber_logs)\n",
    "np.savetxt('bler_decoder_bl100.txt', bler_logs)"
   ]
  },
  {
   "cell_type": "markdown",
   "metadata": {},
   "source": [
    "## Evaludate at data_len  =1000"
   ]
  },
  {
   "cell_type": "code",
   "execution_count": 11,
   "metadata": {},
   "outputs": [
    {
     "name": "stdout",
     "output_type": "stream",
     "text": [
      "SNR_dB = 0.000000\n",
      "\t[Modular]  Ber = 0.13704160 | Bler =1.00000000 - 12.35305s\n",
      "\t[Baseline] Ber = 0.20038320 | Bler =1.00000000 - 194.99566s\n",
      "SNR_dB = 3.000000\n",
      "\t[Modular]  Ber = 0.01390300 | Bler =0.99960000 - 11.40209s\n",
      "\t[Baseline] Ber = 0.03448560 | Bler =1.00000000 - 194.08260s\n",
      "SNR_dB = 5.000000\n",
      "\t[Modular]  Ber = 0.00072580 | Bler =0.42680000 - 11.44237s\n",
      "\t[Baseline] Ber = 0.00385660 | Bler =0.83080000 - 197.03435s\n",
      "SNR_dB = 7.000000\n",
      "\t[Modular]  Ber = 0.00001060 | Bler =0.01000000 - 11.59086s\n",
      "\t[Baseline] Ber = 0.00025960 | Bler =0.14640000 - 195.21716s\n",
      "SNR_dB = 10.000000\n",
      "\t[Modular]  Ber = 0.00000000 | Bler =0.00000000 - 11.77438s\n",
      "\t[Baseline] Ber = 0.00000900 | Bler =0.00640000 - 196.30981s\n",
      "SNR_dB = 12.000000\n",
      "\t[Modular]  Ber = 0.00000000 | Bler =0.00000000 - 12.04506s\n",
      "\t[Baseline] Ber = 0.00000060 | Bler =0.00040000 - 195.41754s\n"
     ]
    }
   ],
   "source": [
    "class Params:\n",
    "    SNR_RANGE = [0.0, 3.0, 5.0, 7.0, 10.0, 12.0]\n",
    "    NUM_SAMPLES = 5000\n",
    "    BLOCK_LENGTH = 1000\n",
    "   \n",
    "radio = RadioDataGenerator(Params.BLOCK_LENGTH, 10, 1, modulation_scheme='QPSK')\n",
    "\n",
    "ber_logs, bler_logs = [], []\n",
    "for i, snr in enumerate(Params.SNR_RANGE):\n",
    "    print('SNR_dB = %f' % snr)\n",
    "    x_test, y_test = next(radio.ecc_data_generator(1/1000, \n",
    "                                                   snr, \n",
    "                                                   batch_size=Params.NUM_SAMPLES, \n",
    "                                                   num_cpus=16, \n",
    "                                                   seed=2019))\n",
    "    \n",
    "    Y_test = np.squeeze(y_test, -1)  #(batch, 100, 1) to (batch, 100)\n",
    "    # Run Baseline/Neral Receiver\n",
    "    t1 = time.time()\n",
    "    with mp.Pool(mp.cpu_count()) as pool:\n",
    "        baseline_estimate = pool.map(baseline_receiver, [i.view(complex) for i in x_test])\n",
    "\n",
    "    t2 = time.time()\n",
    "    \n",
    "    predictions = model.predict(x_test, 500)\n",
    "    nn_estimate = np.squeeze(predictions, -1).round()\n",
    "    t3 = time.time()\n",
    "    \n",
    "    # Measure BER / BKER for two receivers\n",
    "    \n",
    "    ber, bler       = get_ber_bler(np.array(baseline_estimate), Y_test)\n",
    "    nn_ber, nn_bler = get_ber_bler(nn_estimate, Y_test)\n",
    "    print('\\t[Modular]  Ber = {:.8f} | Bler ={:.8f} - {:3.5f}s'.format(nn_ber, nn_bler, t3 - t2))\n",
    "    print('\\t[Baseline] Ber = {:.8f} | Bler ={:.8f} - {:3.5f}s'.format(ber, bler, t2-t1))\n",
    "    \n",
    "    ber_logs.append([ber, nn_ber])\n",
    "    bler_logs.append([bler, nn_bler])"
   ]
  },
  {
   "cell_type": "code",
   "execution_count": 12,
   "metadata": {},
   "outputs": [],
   "source": [
    "np.savetxt('ber_decoder_bl1000.txt', ber_logs)\n",
    "np.savetxt('bler_decoder_bl1000.txt', bler_logs)"
   ]
  },
  {
   "cell_type": "code",
   "execution_count": null,
   "metadata": {},
   "outputs": [],
   "source": []
  }
 ],
 "metadata": {
  "accelerator": "GPU",
  "colab": {
   "collapsed_sections": [],
   "default_view": {},
   "name": "RadioMLReceiver.ipynb",
   "provenance": [
    {
     "file_id": "https://github.com/datlife/radioml/blob/master/notebooks/Train_End2End_Reciver.ipynb",
     "timestamp": 1532370400196
    }
   ],
   "version": "0.3.2",
   "views": {}
  },
  "kernelspec": {
   "display_name": "Radio ML",
   "language": "python",
   "name": "radioml"
  },
  "language_info": {
   "codemirror_mode": {
    "name": "ipython",
    "version": 3
   },
   "file_extension": ".py",
   "mimetype": "text/x-python",
   "name": "python",
   "nbconvert_exporter": "python",
   "pygments_lexer": "ipython3",
   "version": "3.6.6"
  }
 },
 "nbformat": 4,
 "nbformat_minor": 1
}
