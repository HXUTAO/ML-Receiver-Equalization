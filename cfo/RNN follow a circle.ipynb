{
 "cells": [
  {
   "cell_type": "code",
   "execution_count": 1,
   "metadata": {},
   "outputs": [
    {
     "name": "stderr",
     "output_type": "stream",
     "text": [
      "/home/laura/anaconda3/lib/python3.6/site-packages/h5py/__init__.py:36: FutureWarning: Conversion of the second argument of issubdtype from `float` to `np.floating` is deprecated. In future, it will be treated as `np.float64 == np.dtype(float).type`.\n",
      "  from ._conv import register_converters as _register_converters\n"
     ]
    }
   ],
   "source": [
    "import numpy as np\n",
    "import tensorflow as tf\n",
    "import matplotlib.pyplot as plt\n",
    "\n",
    "np.random.seed()\n",
    "# tf.set_random_seed()\n",
    "\n",
    "'''\n",
    "RNN linear is a net that tries to follow a circle with only linear components\n",
    "'''\n",
    "\n",
    "class RNN_linear():\n",
    "    def __init__(self, prediction_length = 40, batch_size = 1500, learning_rate = 0.01):           \n",
    "        \n",
    "        # Network variables\n",
    "        self.prediction_length = prediction_length\n",
    "        self.batch_size = batch_size\n",
    "        self.learning_rate = learning_rate\n",
    "        \n",
    "        # Placeholders for training\n",
    "        self.data_start = tf.placeholder(tf.float32, [None, 2])\n",
    "        self.data_true = tf.placeholder(tf.float32, [None, self.prediction_length, 2])\n",
    "            \n",
    "        ###############\n",
    "        # Given data_start, rotate in a circle at rate omega\n",
    "        ###############\n",
    "        init_state = self.data_start\n",
    "        \n",
    "        current_state = init_state\n",
    "        self.est_data_series = []\n",
    "        for num_pred in range(self.prediction_length):\n",
    "            # send state through the identity layer\n",
    "            layer_1 = tf.layers.dense(\n",
    "              init_state, 2, tf.identity, use_bias=True)\n",
    "            # set the next state to be current output\n",
    "            next_state = layer_1\n",
    "            # append next state to the est-data-series\n",
    "            self.est_data_series.append(next_state)\n",
    "            current_state = next_state\n",
    "\n",
    "#         self.est_data_series = tf.reshape(self.est_data_series,[batch_size,data_length,2])\n",
    "        self.est_data_series = tf.transpose(self.est_data_series, [1,0,2])\n",
    "        \n",
    "        ###############################################\n",
    "        # Define surrogate loss and optimization tensor\n",
    "        ###############################################\n",
    "        self.surr = tf.losses.mean_squared_error(self.est_data_series, self.data_true)\n",
    "        self.optimizer = tf.train.AdamOptimizer(self.learning_rate)\n",
    "        self.update_op = self.optimizer.minimize(self.surr)\n",
    "\n",
    "        ###############\n",
    "        # Start session\n",
    "        ###############\n",
    "        self.sess = tf.Session()\n",
    "        self.sess.run(tf.global_variables_initializer())\n",
    "            \n",
    "\n",
    "    def test_net(self, data_start, data_true):\n",
    "        \"\"\"\n",
    "        Test net function. Evaluates the session\n",
    "        \"\"\"\n",
    "\n",
    "        test_cost, test_est_series, test_mse_loss = self.sess.run([self.surr,self.est_data_series, \n",
    "                                                                   self.surr], \n",
    "                                                             feed_dict={\n",
    "                self.data_start: data_start,\n",
    "                self.data_true: data_true,\n",
    "                })\n",
    "        \n",
    "#         # save the weights from the layers\n",
    "#         with tf.variable_scope(\"identity_layer\", reuse=True):\n",
    "#             weights_1 = tf.get_variable(\"kernel\").eval(session = self.sess)\n",
    "#             bias_1 = tf.get_variable(\"bias\").eval(session = self.sess)\n",
    "                    \n",
    "        return (test_cost,test_est_series, test_mse_loss)#, weights_1, bias_1)\n",
    "    \n",
    "            \n",
    "    def train_net(self, data_start, data_true):\n",
    "        \"\"\"\n",
    "        Train net function. Calls self.update_op.\n",
    "        \"\"\"\n",
    "\n",
    "        _ , train_cost = self.sess.run([self.update_op, self.surr], feed_dict={\n",
    "                self.data_start: data_start,\n",
    "                self.data_true: data_true,\n",
    "                })\n",
    "        \n",
    "        return train_cost\n",
    "    \n"
   ]
  },
  {
   "cell_type": "code",
   "execution_count": 2,
   "metadata": {},
   "outputs": [],
   "source": [
    "def data_generation(epochs, omega, data_length, batch_size):\n",
    "    \n",
    "    # create training data\n",
    "    import numpy as np\n",
    "    import scipy.signal as sig\n",
    "    from numpy import linalg as LA\n",
    "    import matplotlib.pyplot as plt\n",
    "\n",
    "    # Create training and test data for the NN\n",
    "\n",
    "    # number of random channels that will be trained and tested on\n",
    "    num_train=epochs*batch_size\n",
    "    num_test=batch_size\n",
    "\n",
    "    # QPSK\n",
    "    data_train = np.zeros((num_train, data_length,2))\n",
    "    data_test = np.zeros((num_test, data_length,2))\n",
    "    start_train = np.zeros((num_train, 2))\n",
    "    start_test = np.zeros((num_test, 2))\n",
    "\n",
    "    for i in range(num_train):\n",
    "        # first choose a random starting point on the unit circle\n",
    "        # there are 2pi radians in a circle, choose random number between 0 and 2pi\n",
    "        random_start = np.random.rand()*2*np.pi\n",
    "    #     random_start = 0\n",
    "        start_train[i,:] = np.array([np.cos(random_start), np.sin(random_start)])\n",
    "        # real part of data\n",
    "        data_train[i,0,:]=np.array([np.cos(random_start), np.sin(random_start)])\n",
    "\n",
    "        # rotate data according to omega\n",
    "        for j in range(1,data_length):\n",
    "            data_train[i,j,0]=(data_train[i,j-1,0]*np.cos(omega)-data_train[i,j-1,1]*np.sin(omega))\n",
    "            data_train[i,j,1]=(data_train[i,j-1,0]*np.sin(omega)+data_train[i,j-1,1]*np.cos(omega))\n",
    "\n",
    "        if i % 100000 == 0:\n",
    "            print(i)\n",
    "\n",
    "\n",
    "    for i in range(num_test):\n",
    "        # first choose a random starting point on the unit circle\n",
    "        # there are 2pi radians in a circle, choose random number between 0 and 2pi\n",
    "        random_start = np.random.rand()*2*np.pi\n",
    "    #     random_start = 0 \n",
    "        start_test[i,:]=np.array([np.cos(random_start), np.sin(random_start)])\n",
    "        # real part of data\n",
    "        data_test[i,0,:]=np.array([np.cos(random_start), np.sin(random_start)])\n",
    "\n",
    "        # rotate data according to omega\n",
    "        for j in range(1,data_length):\n",
    "            data_test[i,j,0]=(data_test[i,j-1,0]*np.cos(omega)-data_test[i,j-1,1]*np.sin(omega))\n",
    "            data_test[i,j,1]=(data_test[i,j-1,0]*np.sin(omega)+data_test[i,j-1,1]*np.cos(omega))\n",
    "\n",
    "    print(\"Data generation complete.\")\n",
    "    \n",
    "    return(data_train, data_test, start_train, start_test)"
   ]
  },
  {
   "cell_type": "code",
   "execution_count": 8,
   "metadata": {
    "scrolled": true
   },
   "outputs": [
    {
     "name": "stdout",
     "output_type": "stream",
     "text": [
      "0\n",
      "100000\n",
      "Data generation complete.\n"
     ]
    }
   ],
   "source": [
    "epochs = 2000\n",
    "omega = 1/50\n",
    "data_length = 100\n",
    "batch_size = 100\n",
    "\n",
    "# generate the data\n",
    "(data_train, data_test, start_train, start_test) = data_generation(epochs, omega, data_length, batch_size)"
   ]
  },
  {
   "cell_type": "code",
   "execution_count": 9,
   "metadata": {},
   "outputs": [
    {
     "data": {
      "image/png": "[encoded data removed]",
      "text/plain": [
       "<matplotlib.figure.Figure at 0x7fde64755dd8>"
      ]
     },
     "metadata": {},
     "output_type": "display_data"
    }
   ],
   "source": [
    "t = np.linspace(0,np.pi*2,100)\n",
    "plt.plot(np.cos(t), np.sin(t), linewidth=1, color='g')\n",
    "plt.gca().set_aspect('equal', adjustable='box')\n",
    "\n",
    "for j in range(0,data_length):\n",
    "    x = data_test[0,j,0]\n",
    "    y = data_test[0,j,1]\n",
    "    plt.plot(x,y,'bo')\n",
    "    \n",
    "# plt.plot(x1,y1,'bo')\n",
    "plt.show()"
   ]
  },
  {
   "cell_type": "code",
   "execution_count": 10,
   "metadata": {},
   "outputs": [
    {
     "name": "stdout",
     "output_type": "stream",
     "text": [
      "Net trained on constant omega =  0.02\n",
      "Epoch 0, Train Cost 1.001015305519104, Test Cost: 0.9702341556549072, MSE Loss: 0.9702341556549072\n",
      "Epoch 100, Train Cost 0.17955127358436584, Test Cost: 0.17815503478050232, MSE Loss: 0.17815503478050232\n",
      "Epoch 200, Train Cost 0.028379803523421288, Test Cost: 0.026753565296530724, MSE Loss: 0.026753565296530724\n",
      "Epoch 300, Train Cost 0.0032280341256409883, Test Cost: 0.0031214419286698103, MSE Loss: 0.0031214419286698103\n",
      "Epoch 400, Train Cost 0.0002721586497500539, Test Cost: 0.0002596729318611324, MSE Loss: 0.0002596729318611324\n",
      "Epoch 500, Train Cost 1.5794947103131562e-05, Test Cost: 1.529331893834751e-05, MSE Loss: 1.529331893834751e-05\n",
      "Epoch 600, Train Cost 6.54186976589699e-07, Test Cost: 6.246367547646514e-07, MSE Loss: 6.246367547646514e-07\n",
      "Epoch 700, Train Cost 1.711434727269534e-08, Test Cost: 1.6715077322260186e-08, MSE Loss: 1.6715077322260186e-08\n",
      "Epoch 800, Train Cost 3.11982273348832e-10, Test Cost: 3.073704346601147e-10, MSE Loss: 3.073704346601147e-10\n",
      "Epoch 900, Train Cost 3.781897971871784e-12, Test Cost: 3.4979016211300618e-12, MSE Loss: 3.4979016211300618e-12\n",
      "Epoch 1000, Train Cost 1.2333061275796725e-13, Test Cost: 1.2274344951893057e-13, MSE Loss: 1.2274344951893057e-13\n",
      "Epoch 1100, Train Cost 1.1300967892599947e-13, Test Cost: 1.1052407768294067e-13, MSE Loss: 1.1052407768294067e-13\n",
      "Epoch 1200, Train Cost 1.1118676915581813e-13, Test Cost: 1.0977023868867508e-13, MSE Loss: 1.0977023868867508e-13\n",
      "Epoch 1300, Train Cost 1.0974417717895396e-13, Test Cost: 1.0754387696132114e-13, MSE Loss: 1.0754387696132114e-13\n",
      "Epoch 1400, Train Cost 1.0848515418241875e-13, Test Cost: 1.1172314429933744e-13, MSE Loss: 1.1172314429933744e-13\n",
      "Epoch 1500, Train Cost 1.0942622133934543e-13, Test Cost: 1.0684783949537618e-13, MSE Loss: 1.0684783949537618e-13\n",
      "Epoch 1600, Train Cost 1.023721987172474e-13, Test Cost: 1.0031901795815729e-13, MSE Loss: 1.0031901795815729e-13\n",
      "Epoch 1700, Train Cost 9.193676635960157e-14, Test Cost: 9.292037489927116e-14, MSE Loss: 9.292037489927116e-14\n",
      "Epoch 1800, Train Cost 8.466475133819817e-14, Test Cost: 8.023128602457907e-14, MSE Loss: 8.023128602457907e-14\n",
      "Epoch 1900, Train Cost 6.791582677105265e-14, Test Cost: 6.826849740897145e-14, MSE Loss: 6.826849740897145e-14\n"
     ]
    },
    {
     "data": {
      "image/png": "[encoded data removed]",
      "text/plain": [
       "<matplotlib.figure.Figure at 0x7fde546a0e48>"
      ]
     },
     "metadata": {},
     "output_type": "display_data"
    }
   ],
   "source": [
    "### RNN circle ###\n",
    "\n",
    "import matplotlib.pyplot as plt   \n",
    "import numpy as np\n",
    "\n",
    "\n",
    "print(\"Net trained on constant omega = \", omega)\n",
    "\n",
    "mc_losses = []\n",
    "# define equalizer NN class object\n",
    "net = RNN_linear(data_length, batch_size, learning_rate = 0.01)\n",
    "\n",
    "for epoch in range(epochs):\n",
    "    current_start = epoch*batch_size\n",
    "    data_train_orig_batch = data_train[current_start:(current_start+batch_size),:,:]\n",
    "    start_train_orig_batch = start_train[current_start:(current_start+batch_size),:]   \n",
    "\n",
    "    train_cost = net.train_net(start_train_orig_batch, data_train_orig_batch)\n",
    "\n",
    "    if epoch % 100 == 0: \n",
    "\n",
    "\n",
    "#         (test_cost, test_omega, test_loss_mse, w1, b1) = net.test_net(\n",
    "#             data_test, start_test)\n",
    "        (test_cost, test_est_series, test_loss_mse) = net.test_net(\n",
    "            start_test, data_test)\n",
    "\n",
    "        mc_losses.append(test_cost)\n",
    "\n",
    "\n",
    "        plt.plot(epoch, np.log(test_cost), 'bo')\n",
    "        print('Epoch {}, Train Cost {}, Test Cost: {}, MSE Loss: {}'.format(epoch, train_cost,test_cost, \n",
    "                                                                            test_loss_mse))\n",
    "\n",
    "\n",
    "plt.xlabel('Training Epoch')\n",
    "plt.ylabel('L2 Test Cost')\n",
    "plt.title('NN Equalizer: no noise')\n",
    "# plt.text(1000, .025, r'NN equalizer')\n",
    "# plt.text(0.5, .025, r'Zero Force equalizer')\n",
    "plt.show()\n",
    "\n",
    "\n"
   ]
  },
  {
   "cell_type": "code",
   "execution_count": 11,
   "metadata": {},
   "outputs": [],
   "source": [
    "# print(np.array(test_est_series).shape)"
   ]
  },
  {
   "cell_type": "code",
   "execution_count": 12,
   "metadata": {},
   "outputs": [
    {
     "data": {
      "image/png": "[encoded data removed]",
      "text/plain": [
       "<matplotlib.figure.Figure at 0x7fde45b5c160>"
      ]
     },
     "metadata": {},
     "output_type": "display_data"
    }
   ],
   "source": [
    "data_est = np.array(test_est_series)\n",
    "\n",
    "t = np.linspace(0,np.pi*2,100)\n",
    "plt.plot(np.cos(t), np.sin(t), linewidth=1, color='g')\n",
    "plt.gca().set_aspect('equal', adjustable='box')\n",
    "\n",
    "m = 0 # test number\n",
    "\n",
    "for j in range(0,data_length):\n",
    "    x1 = data_test[m,j,0]\n",
    "    y1 = data_test[m,j,1]\n",
    "    plt.plot(x1,y1,'bo')\n",
    "    \n",
    "    x2 = data_est[m,j,0]\n",
    "    y2 = data_est[m,j,1]\n",
    "    plt.plot(x2,y2,'ro')\n",
    "    \n",
    "#     print(x1-x2, y1-y2)\n",
    "    \n",
    "# plt.plot(x1,y1,'bo')\n",
    "plt.show()"
   ]
  },
  {
   "cell_type": "code",
   "execution_count": null,
   "metadata": {},
   "outputs": [],
   "source": []
  }
 ],
 "metadata": {
  "kernelspec": {
   "display_name": "Python 3",
   "language": "python",
   "name": "python3"
  },
  "language_info": {
   "codemirror_mode": {
    "name": "ipython",
    "version": 3
   },
   "file_extension": ".py",
   "mimetype": "text/x-python",
   "name": "python",
   "nbconvert_exporter": "python",
   "pygments_lexer": "ipython3",
   "version": "3.6.4"
  }
 },
 "nbformat": 4,
 "nbformat_minor": 2
}
